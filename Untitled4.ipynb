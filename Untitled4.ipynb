{
  "nbformat": 4,
  "nbformat_minor": 0,
  "metadata": {
    "colab": {
      "provenance": []
    },
    "kernelspec": {
      "name": "python3",
      "display_name": "Python 3"
    },
    "language_info": {
      "name": "python"
    }
  },
  "cells": [
    {
      "cell_type": "code",
      "execution_count": 2,
      "metadata": {
        "colab": {
          "base_uri": "https://localhost:8080/"
        },
        "id": "kGpIUH3yHoG8",
        "outputId": "f27bf176-baf1-480c-cd96-d5d7e0f25fe4"
      },
      "outputs": [
        {
          "output_type": "stream",
          "name": "stdout",
          "text": [
            "Result of SQL Query:\n",
            "   id\n",
            "0   2\n",
            "1   4\n"
          ]
        }
      ],
      "source": [
        "import sqlite3\n",
        "import pandas as pd\n",
        "\n",
        "conn = sqlite3.connect(\":memory:\")\n",
        "cursor = conn.cursor()\n",
        "\n",
        "cursor.execute('''\n",
        "CREATE TABLE Weather (\n",
        "    id INTEGER PRIMARY KEY,\n",
        "    recordDate DATE,\n",
        "    temperature INTEGER\n",
        ")\n",
        "''')\n",
        "\n",
        "data = [\n",
        "    (1, '2015-01-01', 10),\n",
        "    (2, '2015-01-02', 25),\n",
        "    (3, '2015-01-03', 20),\n",
        "    (4, '2015-01-04', 30)\n",
        "]\n",
        "\n",
        "cursor.executemany('''\n",
        "INSERT INTO Weather (id, recordDate, temperature)\n",
        "VALUES (?, ?, ?)\n",
        "''', data)\n",
        "\n",
        "conn.commit()\n",
        "\n",
        "query = '''\n",
        "SELECT w1.id\n",
        "FROM Weather w1\n",
        "JOIN Weather w2\n",
        "ON DATE(w1.recordDate, '-1 day') = w2.recordDate\n",
        "WHERE w1.temperature > w2.temperature\n",
        "'''\n",
        "\n",
        "cursor.execute(query)\n",
        "result = cursor.fetchall()\n",
        "\n",
        "df_result = pd.DataFrame(result, columns=['id'])\n",
        "print(\"Result of SQL Query:\")\n",
        "print(df_result)\n",
        "\n",
        "conn.close()\n"
      ]
    },
    {
      "cell_type": "code",
      "source": [],
      "metadata": {
        "id": "RAVYNeOxJugB"
      },
      "execution_count": null,
      "outputs": []
    }
  ]
}